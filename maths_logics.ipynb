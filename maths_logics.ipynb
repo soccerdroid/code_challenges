{
 "cells": [
  {
   "attachments": {},
   "cell_type": "markdown",
   "metadata": {},
   "source": [
    "# Maths and logics coding challenges"
   ]
  },
  {
   "attachments": {},
   "cell_type": "markdown",
   "metadata": {},
   "source": [
    "Author: María Guaranda"
   ]
  },
  {
   "cell_type": "code",
   "execution_count": 1,
   "metadata": {},
   "outputs": [],
   "source": [
    "import numpy as np"
   ]
  },
  {
   "attachments": {},
   "cell_type": "markdown",
   "metadata": {},
   "source": [
    "#### 1. Count all possible pairs given the number of elements.  \n",
    "For example, if we have 3 elements {1, 2, 3}, then all possible pairs are:\n",
    "1. (1,2)\n",
    "2. (1,3)\n",
    "3. (2,3)\n",
    "So output should be 3.\n"
   ]
  },
  {
   "attachments": {},
   "cell_type": "markdown",
   "metadata": {},
   "source": [
    "**Solution:**  \n",
    "This problem is actually a combinatory problem. Think that, if you take the first element, 1, then you can pair it with the resting number of elements, which is len(nums) - 1. Then, you can take the second element, 2, and pair it with the resting number of elements, which is len(nums) - 2. And so on. So, the total number of pairs is:  \n",
    "(len(nums) - 1) + (len(nums) - 2) + ... + 1 = (len(nums) - 1) * len(nums) / 2\n",
    "\n",
    "The time complexity is O(1), and the space complexity is O(1)."
   ]
  },
  {
   "cell_type": "code",
   "execution_count": 2,
   "metadata": {},
   "outputs": [],
   "source": [
    "def count_pairs(n):\n",
    "    return n * (n - 1) // 2"
   ]
  },
  {
   "cell_type": "code",
   "execution_count": 4,
   "metadata": {},
   "outputs": [
    {
     "name": "stdout",
     "output_type": "stream",
     "text": [
      "6\n",
      "15\n",
      "4950\n"
     ]
    }
   ],
   "source": [
    "print(count_pairs(4))\n",
    "print(count_pairs(6))\n",
    "print(count_pairs(100))"
   ]
  },
  {
   "attachments": {},
   "cell_type": "markdown",
   "metadata": {},
   "source": [
    "#### 2. Get the start and end of the subarray with the maximum sum\n",
    "Find the start and end of the subarray with the maximum sum. For example, if the input array is [1, -3, 2, 1, -1], the output should be (2, 3). The subarray with the maximum sum is [2, 1]."
   ]
  },
  {
   "cell_type": "code",
   "execution_count": 3,
   "metadata": {},
   "outputs": [],
   "source": [
    "def test(solution_fn):\n",
    "    lists = [[-2,1,-3,4,-1,2,1,-5,4], [5,4,-1,7,8], [1]]\n",
    "    res = [6, 23, 1]\n",
    "    for l, s in zip(lists, res):\n",
    "        assert solution_fn(l) == s"
   ]
  },
  {
   "attachments": {},
   "cell_type": "markdown",
   "metadata": {},
   "source": [
    "**Solution:**  \n",
    "We will use Kadane's algorithm. The idea is to keep track of the maximum sum of the subarray that ends at each position. If the maximum sum of the subarray that ends at position i is negative, then we will reset it to 0. The time complexity is O(n), and the space complexity is O(1)."
   ]
  },
  {
   "attachments": {},
   "cell_type": "markdown",
   "metadata": {},
   "source": [
    "I found this explanation of the solution helpful: https://leetcode.com/problems/maximum-subarray/solutions/1595097/java-kadane-s-algorithm-explanation-using-image/"
   ]
  },
  {
   "cell_type": "code",
   "execution_count": 4,
   "metadata": {},
   "outputs": [],
   "source": [
    "def max_subarray_sum(nums):\n",
    "    \"\"\"\n",
    "    This function will return the maximum sum of a contiguous subarray.\n",
    "    \"\"\"\n",
    "    max_sum = -np.inf\n",
    "    cur_sum = 0\n",
    "    for n in nums:\n",
    "        # cumulative sum\n",
    "        cur_sum = cur_sum + n\n",
    "        # update max_sum if the current cum sum is greater\n",
    "        max_sum = max(cur_sum, max_sum)\n",
    "        # reset cur_sum to 0 if it is negative\n",
    "        cur_sum = max(cur_sum, 0)\n",
    "    return max_sum\n",
    "\n",
    "test(max_subarray_sum)"
   ]
  },
  {
   "cell_type": "code",
   "execution_count": 8,
   "metadata": {},
   "outputs": [],
   "source": [
    "def test(solution_fn):\n",
    "    lists = [[-2,1,-3,4,-1,2,1,-5,4], [5,4,-1,7,8], [1]]\n",
    "    sums = [6, 23, 1]\n",
    "    max_arrs_idx = [[3,6], [0,4], [0,0]]\n",
    "    for i, l in enumerate(lists):\n",
    "        true_res = {\"sum\": sums[i], \"start\": max_arrs_idx[i][0], \"end\": max_arrs_idx[i][-1]}\n",
    "        assert solution_fn(l) == true_res"
   ]
  },
  {
   "attachments": {},
   "cell_type": "markdown",
   "metadata": {},
   "source": [
    "Before, we just printed the total sum. We can also be asked to give the start and ending indices of the subarray with the maximum sum.  \n",
    "\n",
    "Every time we update the maximum sum of the subarray that ends at position i, we can also update the end index.  \n",
    "\n",
    "The start index can be a bit tricky; we will update it only when the cumulative sum becomes negative.  I think that the general idea of this algorithm is greedy; we will keep grabbing more numbers as long as we keep getting a bigger sum, so this is why we don't update the start index. \n",
    "\n",
    "This means that, if we happen to start with a positive number, we will keep grabbing the next numbers; if we keep getting a bigger sum, we will keep updating the end index only. Else, if we get a lower sum, we won't update the end index (nor the start one). \n",
    "\n",
    "In a list with only negative numbers like **[-3,-4,-1]**, the start index will continously be updated, and the end index will indicate us the position of the least negative number."
   ]
  },
  {
   "cell_type": "code",
   "execution_count": 10,
   "metadata": {},
   "outputs": [
    {
     "name": "stdout",
     "output_type": "stream",
     "text": [
      "{'sum': 6, 'start': 3, 'end': 6}\n"
     ]
    }
   ],
   "source": [
    "def max_subarray(nums):\n",
    "    res = {\"sum\": -np.inf, \"start\": 0, \"end\": 0}\n",
    "    if len(nums) == 1:\n",
    "        res[\"sum\"] = nums[0]\n",
    "        return res\n",
    "    max_sum = -np.inf\n",
    "    cur_sum = 0\n",
    "    start = end = 0\n",
    "    for i, n in enumerate(nums):\n",
    "        cur_sum = cur_sum + n\n",
    "        if cur_sum > max_sum:\n",
    "            max_sum = cur_sum\n",
    "            end = i\n",
    "        if cur_sum < 0:\n",
    "            cur_sum = 0\n",
    "            start = i + 1\n",
    "    res[\"sum\"] = max_sum\n",
    "    # if start > end, it means that the max sum is negative\n",
    "    # so the max subarray is a single element\n",
    "    # positioned in the index stored in end\n",
    "    res[\"start\"] = end if start > end else start\n",
    "    res[\"end\"] = end\n",
    "    return res\n",
    "\n",
    "test(max_subarray)\n",
    "print(max_subarray([-2,1,-3,4,-1,2,1,-5,4]))"
   ]
  }
 ],
 "metadata": {
  "kernelspec": {
   "display_name": "base",
   "language": "python",
   "name": "python3"
  },
  "language_info": {
   "codemirror_mode": {
    "name": "ipython",
    "version": 3
   },
   "file_extension": ".py",
   "mimetype": "text/x-python",
   "name": "python",
   "nbconvert_exporter": "python",
   "pygments_lexer": "ipython3",
   "version": "3.8.17"
  },
  "orig_nbformat": 4
 },
 "nbformat": 4,
 "nbformat_minor": 2
}
